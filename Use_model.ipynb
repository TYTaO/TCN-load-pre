{
 "cells": [
  {
   "cell_type": "code",
   "execution_count": 18,
   "metadata": {
    "collapsed": true
   },
   "outputs": [
    {
     "name": "stderr",
     "output_type": "stream",
     "text": [
      "<ipython-input-18-46704679efad>:7: FutureWarning: The pandas.datetime class is deprecated and will be removed from pandas in a future version. Import from datetime module instead.\n",
      "  split_time = pd.datetime.strptime('2018-08-14 00:00:00', '%Y-%m-%d %H:%M:%S') # 数据集范围 2018-07-24 00:00:00 ~ 2018-08-24 00:00:00\n",
      "D:\\Study\\实验室\\TCN\\load_pre\\untils.py:13: FutureWarning: The pandas.datetime class is deprecated and will be removed from pandas in a future version. Import from datetime module instead.\n",
      "  dateparse = lambda dates: pd.datetime.strptime(dates, '%Y-%m-%d %H:%M:%S')\n"
     ]
    }
   ],
   "source": [
    "import argparse\n",
    "from untils import *\n",
    "from model import TCN\n",
    "import torch.nn.functional as F\n",
    "\n",
    "file_path = 'D:\\Study\\实验室\\TCN\\Fisher-model-master\\container1.csv'\n",
    "split_time = pd.datetime.strptime('2018-08-14 00:00:00', '%Y-%m-%d %H:%M:%S') # 数据集范围 2018-07-24 00:00:00 ~ 2018-08-24 00:00:00\n",
    "look_back = 512\n",
    "batch_size = 16\n",
    "seq_len = 64    # The size to memorize\n",
    "epochs = 10\n",
    "iters = 100\n",
    "n_classes = 1  # out size\n",
    "n_train = 10000\n",
    "n_test = 1000\n",
    "model_para_path = './model/02-512'\n",
    "dataset = load_data(file_path)\n",
    "# scaler限制到0-1\n",
    "reframed, scaler = normalize_and_make_series(dataset, look_back)\n",
    "train_x, train_y, test_x, test_y = split_data(dataset, reframed, look_back, split_time)\n"
   ]
  },
  {
   "cell_type": "code",
   "execution_count": 19,
   "outputs": [
    {
     "data": {
      "text/plain": "TCN(\n  (tcn): TemporalConvNet(\n    (network): Sequential(\n      (0): TemporalBlock(\n        (conv1): Conv1d(512, 64, kernel_size=(2,), stride=(1,), padding=(1,))\n        (chomp1): Chomp1d()\n        (relu1): ReLU()\n        (dropout1): Dropout(p=0.2, inplace=False)\n        (conv2): Conv1d(64, 64, kernel_size=(2,), stride=(1,), padding=(1,))\n        (chomp2): Chomp1d()\n        (relu2): ReLU()\n        (dropout2): Dropout(p=0.2, inplace=False)\n        (net): Sequential(\n          (0): Conv1d(512, 64, kernel_size=(2,), stride=(1,), padding=(1,))\n          (1): Chomp1d()\n          (2): ReLU()\n          (3): Dropout(p=0.2, inplace=False)\n          (4): Conv1d(64, 64, kernel_size=(2,), stride=(1,), padding=(1,))\n          (5): Chomp1d()\n          (6): ReLU()\n          (7): Dropout(p=0.2, inplace=False)\n        )\n        (downsample): Conv1d(512, 64, kernel_size=(1,), stride=(1,))\n        (relu): ReLU()\n      )\n      (1): TemporalBlock(\n        (conv1): Conv1d(64, 64, kernel_size=(2,), stride=(1,), padding=(2,), dilation=(2,))\n        (chomp1): Chomp1d()\n        (relu1): ReLU()\n        (dropout1): Dropout(p=0.2, inplace=False)\n        (conv2): Conv1d(64, 64, kernel_size=(2,), stride=(1,), padding=(2,), dilation=(2,))\n        (chomp2): Chomp1d()\n        (relu2): ReLU()\n        (dropout2): Dropout(p=0.2, inplace=False)\n        (net): Sequential(\n          (0): Conv1d(64, 64, kernel_size=(2,), stride=(1,), padding=(2,), dilation=(2,))\n          (1): Chomp1d()\n          (2): ReLU()\n          (3): Dropout(p=0.2, inplace=False)\n          (4): Conv1d(64, 64, kernel_size=(2,), stride=(1,), padding=(2,), dilation=(2,))\n          (5): Chomp1d()\n          (6): ReLU()\n          (7): Dropout(p=0.2, inplace=False)\n        )\n        (relu): ReLU()\n      )\n      (2): TemporalBlock(\n        (conv1): Conv1d(64, 64, kernel_size=(2,), stride=(1,), padding=(4,), dilation=(4,))\n        (chomp1): Chomp1d()\n        (relu1): ReLU()\n        (dropout1): Dropout(p=0.2, inplace=False)\n        (conv2): Conv1d(64, 64, kernel_size=(2,), stride=(1,), padding=(4,), dilation=(4,))\n        (chomp2): Chomp1d()\n        (relu2): ReLU()\n        (dropout2): Dropout(p=0.2, inplace=False)\n        (net): Sequential(\n          (0): Conv1d(64, 64, kernel_size=(2,), stride=(1,), padding=(4,), dilation=(4,))\n          (1): Chomp1d()\n          (2): ReLU()\n          (3): Dropout(p=0.2, inplace=False)\n          (4): Conv1d(64, 64, kernel_size=(2,), stride=(1,), padding=(4,), dilation=(4,))\n          (5): Chomp1d()\n          (6): ReLU()\n          (7): Dropout(p=0.2, inplace=False)\n        )\n        (relu): ReLU()\n      )\n    )\n  )\n  (linear): Linear(in_features=64, out_features=1, bias=True)\n)"
     },
     "execution_count": 19,
     "metadata": {},
     "output_type": "execute_result"
    }
   ],
   "source": [
    "channel_sizes = [64] * 3\n",
    "kernel_size = 2\n",
    "dropout = 0.2\n",
    "model = TCN(look_back, n_classes, channel_sizes, kernel_size, dropout=dropout)\n",
    "model.eval()\n",
    "model.double()"
   ],
   "metadata": {
    "collapsed": false,
    "pycharm": {
     "name": "#%%\n"
    }
   }
  },
  {
   "cell_type": "code",
   "execution_count": 20,
   "outputs": [],
   "source": [
    "model_dict=model.load_state_dict(torch.load(model_para_path))\n"
   ],
   "metadata": {
    "collapsed": false,
    "pycharm": {
     "name": "#%%\n"
    }
   }
  },
  {
   "cell_type": "code",
   "execution_count": 21,
   "outputs": [],
   "source": [
    "i = 0\n",
    "input = test_x\n",
    "out = model(input)\n"
   ],
   "metadata": {
    "collapsed": false,
    "pycharm": {
     "name": "#%%\n"
    }
   }
  },
  {
   "cell_type": "code",
   "execution_count": 22,
   "outputs": [
    {
     "data": {
      "text/plain": "torch.Size([28288, 1])"
     },
     "execution_count": 22,
     "metadata": {},
     "output_type": "execute_result"
    }
   ],
   "source": [
    "out.size()\n"
   ],
   "metadata": {
    "collapsed": false,
    "pycharm": {
     "name": "#%%\n"
    }
   }
  },
  {
   "cell_type": "code",
   "execution_count": 23,
   "outputs": [
    {
     "data": {
      "text/plain": "torch.Size([28288])"
     },
     "execution_count": 23,
     "metadata": {},
     "output_type": "execute_result"
    }
   ],
   "source": [
    "test_y.size()\n"
   ],
   "metadata": {
    "collapsed": false,
    "pycharm": {
     "name": "#%%\n"
    }
   }
  },
  {
   "cell_type": "code",
   "execution_count": 24,
   "outputs": [
    {
     "data": {
      "text/plain": "[<matplotlib.lines.Line2D at 0x215dd933ee0>]"
     },
     "execution_count": 24,
     "metadata": {},
     "output_type": "execute_result"
    },
    {
     "data": {
      "text/plain": "<Figure size 432x288 with 1 Axes>",
      "image/png": "[encoded data removed]"
     },
     "metadata": {
      "needs_background": "light"
     },
     "output_type": "display_data"
    }
   ],
   "source": [
    "import matplotlib.pyplot as plt\n",
    "x = range(len(test_y))\n",
    "plt.plot(x,test_y)\n"
   ],
   "metadata": {
    "collapsed": false,
    "pycharm": {
     "name": "#%%\n"
    }
   }
  },
  {
   "cell_type": "code",
   "execution_count": 25,
   "outputs": [
    {
     "data": {
      "text/plain": "tensor([[0.0408],\n        [0.0417],\n        [0.0410],\n        ...,\n        [0.0552],\n        [0.0552],\n        [0.0553]], dtype=torch.float64, grad_fn=<AddmmBackward>)"
     },
     "execution_count": 25,
     "metadata": {},
     "output_type": "execute_result"
    }
   ],
   "source": [
    "out"
   ],
   "metadata": {
    "collapsed": false,
    "pycharm": {
     "name": "#%%\n"
    }
   }
  },
  {
   "cell_type": "code",
   "execution_count": 26,
   "outputs": [],
   "source": [
    "out = out.view(-1).detach().numpy()\n",
    "# plt.plot(x,out)\n"
   ],
   "metadata": {
    "collapsed": false,
    "pycharm": {
     "name": "#%%\n"
    }
   }
  },
  {
   "cell_type": "code",
   "execution_count": 27,
   "outputs": [
    {
     "data": {
      "text/plain": "[<matplotlib.lines.Line2D at 0x215dd943d60>]"
     },
     "execution_count": 27,
     "metadata": {},
     "output_type": "execute_result"
    },
    {
     "data": {
      "text/plain": "<Figure size 432x288 with 1 Axes>",
      "image/png": "[encoded data removed]"
     },
     "metadata": {
      "needs_background": "light"
     },
     "output_type": "display_data"
    }
   ],
   "source": [
    "x = range(len(test_y))\n",
    "plt.plot(x,test_y)\n",
    "plt.plot(x,out)\n"
   ],
   "metadata": {
    "collapsed": false,
    "pycharm": {
     "name": "#%%\n"
    }
   }
  },
  {
   "cell_type": "code",
   "execution_count": 30,
   "outputs": [
    {
     "data": {
      "text/plain": "[<matplotlib.lines.Line2D at 0x215dd461af0>]"
     },
     "execution_count": 30,
     "metadata": {},
     "output_type": "execute_result"
    },
    {
     "data": {
      "text/plain": "<Figure size 432x288 with 1 Axes>",
      "image/png": "[encoded data removed]"
     },
     "metadata": {
      "needs_background": "light"
     },
     "output_type": "display_data"
    }
   ],
   "source": [
    "start = 600\n",
    "show_size = 50\n",
    "x = range(len(test_y[start:start+show_size]))\n",
    "plt.plot(x,test_y[start:start+show_size])\n",
    "plt.plot(x,out[start:start+show_size])\n",
    "\n"
   ],
   "metadata": {
    "collapsed": false,
    "pycharm": {
     "name": "#%%\n"
    }
   }
  },
  {
   "cell_type": "code",
   "execution_count": 26,
   "outputs": [],
   "source": [
    "from torch import nn\n",
    "from tcn import TemporalConvNet\n",
    "tcn = TemporalConvNet(64, [64, 64], kernel_size=2, dropout=0.2)\n",
    "tcn.double()\n",
    "tcn_out = tcn(input)"
   ],
   "metadata": {
    "collapsed": false,
    "pycharm": {
     "name": "#%%\n"
    }
   }
  },
  {
   "cell_type": "code",
   "execution_count": 27,
   "outputs": [
    {
     "data": {
      "text/plain": "torch.Size([16, 64, 1])"
     },
     "execution_count": 27,
     "metadata": {},
     "output_type": "execute_result"
    }
   ],
   "source": [
    "tcn_out.size()\n"
   ],
   "metadata": {
    "collapsed": false,
    "pycharm": {
     "name": "#%%\n"
    }
   }
  },
  {
   "cell_type": "code",
   "execution_count": 36,
   "outputs": [
    {
     "data": {
      "text/plain": "torch.Size([16, 64])"
     },
     "execution_count": 36,
     "metadata": {},
     "output_type": "execute_result"
    }
   ],
   "source": [
    "tcn_out = tcn_out.view(batch_size, -1)\n",
    "tcn_out.size()"
   ],
   "metadata": {
    "collapsed": false,
    "pycharm": {
     "name": "#%%\n"
    }
   }
  },
  {
   "cell_type": "code",
   "execution_count": 40,
   "outputs": [],
   "source": [
    "input_size = 64\n",
    "output_size = 1\n",
    "ln = nn.Linear(input_size, output_size)\n",
    "ln.double()\n",
    "ln_out = ln(tcn_out)\n"
   ],
   "metadata": {
    "collapsed": false,
    "pycharm": {
     "name": "#%%\n"
    }
   }
  },
  {
   "cell_type": "code",
   "execution_count": 43,
   "outputs": [
    {
     "data": {
      "text/plain": "16"
     },
     "execution_count": 43,
     "metadata": {},
     "output_type": "execute_result"
    }
   ],
   "source": [
    "ln_out.size()[0]\n",
    "\n"
   ],
   "metadata": {
    "collapsed": false,
    "pycharm": {
     "name": "#%%\n"
    }
   }
  },
  {
   "cell_type": "code",
   "execution_count": 42,
   "outputs": [
    {
     "data": {
      "text/plain": "tensor([[0.0648],\n        [0.0654],\n        [0.0445],\n        [0.0627],\n        [0.0513],\n        [0.0645],\n        [0.0702],\n        [0.0550],\n        [0.0585],\n        [0.0889],\n        [0.0668],\n        [0.0640],\n        [0.0429],\n        [0.0721],\n        [0.0902],\n        [0.0630]], dtype=torch.float64, grad_fn=<AddmmBackward>)"
     },
     "execution_count": 42,
     "metadata": {},
     "output_type": "execute_result"
    }
   ],
   "source": [
    "ln_out\n"
   ],
   "metadata": {
    "collapsed": false,
    "pycharm": {
     "name": "#%%\n"
    }
   }
  },
  {
   "cell_type": "code",
   "execution_count": 17,
   "outputs": [],
   "source": [
    "# output = model(train_x[0])\n",
    "#"
   ],
   "metadata": {
    "collapsed": false,
    "pycharm": {
     "name": "#%%\n"
    }
   }
  },
  {
   "cell_type": "code",
   "execution_count": 16,
   "outputs": [],
   "source": [
    "# output = model(train_x)\n"
   ],
   "metadata": {
    "collapsed": false,
    "pycharm": {
     "name": "#%%\n"
    }
   }
  },
  {
   "cell_type": "code",
   "execution_count": null,
   "outputs": [],
   "source": [],
   "metadata": {
    "collapsed": false,
    "pycharm": {
     "name": "#%%\n"
    }
   }
  }
 ],
 "metadata": {
  "kernelspec": {
   "display_name": "Python 3",
   "language": "python",
   "name": "python3"
  },
  "language_info": {
   "codemirror_mode": {
    "name": "ipython",
    "version": 2
   },
   "file_extension": ".py",
   "mimetype": "text/x-python",
   "name": "python",
   "nbconvert_exporter": "python",
   "pygments_lexer": "ipython2",
   "version": "2.7.6"
  }
 },
 "nbformat": 4,
 "nbformat_minor": 0
}